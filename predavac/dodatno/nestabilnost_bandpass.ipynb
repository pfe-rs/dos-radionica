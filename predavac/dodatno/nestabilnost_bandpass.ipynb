{
 "cells": [
  {
   "cell_type": "code",
   "execution_count": null,
   "metadata": {},
   "outputs": [],
   "source": [
    "%matplotlib widget\n",
    "from scipy.io import wavfile\n",
    "from scipy import signal\n",
    "import matplotlib.pyplot as plt\n",
    "import IPython\n",
    "import numpy as np\n",
    "from ipywidgets import interact"
   ]
  },
  {
   "cell_type": "markdown",
   "metadata": {},
   "source": [
    "Ukoliko preteramo sa redom Band-Pass filtra, on može postati nestabilan."
   ]
  },
  {
   "cell_type": "code",
   "execution_count": null,
   "metadata": {},
   "outputs": [],
   "source": [
    "fs = 200e3\n",
    "tmax = 10e-3\n",
    "\n",
    "ts = np.linspace(0, tmax, int(tmax * fs))\n",
    "\n",
    "test_signal = np.sin(2 * np.pi * 1e3 * ts) + np.sin(2 * np.pi * 10e3 * ts) + np.sin(2 * np.pi * 20e3 * ts)"
   ]
  },
  {
   "cell_type": "code",
   "execution_count": null,
   "metadata": {},
   "outputs": [],
   "source": [
    "BandPass9kHz11kHzUnstable = signal.butter(10, (9e3, 11e3), 'bandpass', fs=fs)\n",
    "\n",
    "filtered_unstable = signal.lfilter(BandPass9kHz11kHzUnstable[0], BandPass9kHz11kHzUnstable[1], test_signal);"
   ]
  },
  {
   "cell_type": "code",
   "execution_count": null,
   "metadata": {},
   "outputs": [],
   "source": [
    "plt.figure()\n",
    "plt.plot(ts, filtered_unstable)"
   ]
  }
 ],
 "metadata": {
  "kernelspec": {
   "display_name": "Python 3",
   "language": "python",
   "name": "python3"
  },
  "language_info": {
   "codemirror_mode": {
    "name": "ipython",
    "version": 3
   },
   "file_extension": ".py",
   "mimetype": "text/x-python",
   "name": "python",
   "nbconvert_exporter": "python",
   "pygments_lexer": "ipython3",
   "version": "3.11.1"
  },
  "orig_nbformat": 4
 },
 "nbformat": 4,
 "nbformat_minor": 2
}
