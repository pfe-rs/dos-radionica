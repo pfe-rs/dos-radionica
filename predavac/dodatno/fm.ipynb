{
 "cells": [
  {
   "cell_type": "code",
   "execution_count": null,
   "metadata": {},
   "outputs": [],
   "source": [
    "#ugaone modulacije (fazna modulacija)\n",
    "import numpy as np\n",
    "import matplotlib.pyplot as plt\n",
    "\n",
    "t = np.linspace(0, 1, 2048, 0)\n",
    "fm = 1.0 #ucestanost korisnog signala (data)\n",
    "fc = 200.0 #ucestanost nosioca\n",
    "Ac = 2.0 #amplituda nosioca\n",
    "Am = 1.5 #amplituda modulisuceg signala\n",
    "k = 15 #konstanta FM modulatora\n",
    "data = np.cos(2*np.pi*fm*t)\n",
    "phi = fc*t + k  * data\n",
    "fm_signal = np.cos(2*np.pi*phi) \n"
   ]
  },
  {
   "cell_type": "code",
   "execution_count": null,
   "metadata": {},
   "outputs": [],
   "source": [
    "plt.plot(t, fm_signal)\n",
    "plt.xlabel(\"Vreme [s]\")\n",
    "plt.ylabel(\"Amplituda\")\n",
    "plt.plot(t, data)\n",
    "plt.legend(['FM Signal', 'Originalni Signal'])\n",
    "\n",
    "\n",
    "plt.subplots_adjust(hspace=1)\n",
    "plt.rc('font', size=15)\n",
    "fig = plt.gcf()\n",
    "fig.set_size_inches(16, 9)\n"
   ]
  },
  {
   "cell_type": "code",
   "execution_count": null,
   "metadata": {},
   "outputs": [],
   "source": []
  },
  {
   "cell_type": "code",
   "execution_count": null,
   "metadata": {},
   "outputs": [],
   "source": []
  },
  {
   "cell_type": "code",
   "execution_count": null,
   "metadata": {},
   "outputs": [],
   "source": []
  }
 ],
 "metadata": {
  "kernelspec": {
   "display_name": "Python 3 (ipykernel)",
   "language": "python",
   "name": "python3"
  },
  "language_info": {
   "codemirror_mode": {
    "name": "ipython",
    "version": 3
   },
   "file_extension": ".py",
   "mimetype": "text/x-python",
   "name": "python",
   "nbconvert_exporter": "python",
   "pygments_lexer": "ipython3",
   "version": "3.10.5"
  }
 },
 "nbformat": 4,
 "nbformat_minor": 4
}
