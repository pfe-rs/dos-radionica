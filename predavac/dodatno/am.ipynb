{
 "cells": [
  {
   "cell_type": "code",
   "execution_count": null,
   "metadata": {},
   "outputs": [],
   "source": [
    "import numpy as np\n",
    "import matplotlib.pyplot as plt\n",
    "\n",
    "\n",
    "#amplitudska modulacija, osnovni oblik\n",
    "Ac = 1.0 #amplituda nosioca\n",
    "fc = 150.0 #ucestanost nosioca\n",
    "Am = 3.0 #amplituda modulisuceg signala (signal koji nosi informaciju)\n",
    "fm = 10.0 #ucestanost modulisuceg signala\n",
    "t = np.linspace(0, 1, 1000)\n",
    "\n",
    "carrier = Ac * np.cos(2*np.pi*fc*t) #nosilac\n",
    "modulator = Am * np.cos(2*np.pi*fm*t) #modulisuci signal (nosilac infomracije, data)\n",
    "am_signal = Ac * np.cos(2*np.pi*fc*t) * Am * np.cos(2*np.pi*fm*t)\n"
   ]
  },
  {
   "cell_type": "code",
   "execution_count": null,
   "metadata": {},
   "outputs": [],
   "source": [
    "plt.subplot(3,1,1)\n",
    "plt.title('Amplitudska Modulacija')\n",
    "plt.plot(modulator,'g')\n",
    "plt.ylabel('Amplituda')\n",
    "plt.xlabel('Modulisuci signal')\n",
    "\n",
    "plt.subplot(3,1,2)\n",
    "plt.plot(carrier, 'r')\n",
    "plt.ylabel('Amplituda')\n",
    "plt.xlabel('Signal nosilac')\n",
    "\n",
    "plt.subplot(3,1,3)\n",
    "plt.plot(am_signal, color=\"purple\")\n",
    "plt.plot(modulator, 'b--')\n",
    "plt.plot(-1*modulator, 'b--')\n",
    "plt.ylabel('Amplituda')\n",
    "plt.xlabel('AM signal')\n",
    "\n",
    "plt.subplots_adjust(hspace=1)\n",
    "plt.rc('font', size=15)\n",
    "fig = plt.gcf()\n",
    "fig.set_size_inches(16, 9)\n"
   ]
  },
  {
   "cell_type": "code",
   "execution_count": null,
   "metadata": {},
   "outputs": [],
   "source": [
    "#koherentna amplitudska \n",
    "from scipy import signal as sig\n",
    "t = np.linspace(0, 1, 1000)  \n",
    "demod_signal1 = am_signal * Ac * np.cos(2*np.pi*fc*t) #mnozenje AM signala signalom lokalnog oscilatora koji je isti kao i signal nosilac i optimalno ima fazni pomeraj 0\n",
    "sos = sig.butter(10, fm, btype = 'lowpass', analog = True, output = 'sos')\n",
    "demod_signal = sig.sosfilt(sos, demod_signal1)\n",
    "\n",
    "\n",
    "\n"
   ]
  },
  {
   "cell_type": "code",
   "execution_count": null,
   "metadata": {},
   "outputs": [],
   "source": [
    "plt.subplot(2,1,1)\n",
    "plt.title('Amplitudska Demodulacija')\n",
    "plt.plot(demod_signal1,'g')\n",
    "plt.ylabel('Amplituda')\n",
    "plt.xlabel(' AM signal pomnozen nosiocem iz LO')\n",
    "\n",
    "plt.subplot(2,1,2)\n",
    "plt.plot(demod_signal2, 'r')\n",
    "plt.ylabel('Amplituda')\n",
    "plt.xlabel('filtriran signal nakon mnozenja nosiocem iz LO')\n",
    "\n",
    "plt.subplots_adjust(hspace=1)\n",
    "plt.rc('font', size=15)\n",
    "fig = plt.gcf()\n",
    "fig.set_size_inches(16, 9)"
   ]
  },
  {
   "cell_type": "code",
   "execution_count": null,
   "metadata": {},
   "outputs": [],
   "source": []
  },
  {
   "cell_type": "code",
   "execution_count": null,
   "metadata": {},
   "outputs": [],
   "source": []
  }
 ],
 "metadata": {
  "kernelspec": {
   "display_name": "Python 3 (ipykernel)",
   "language": "python",
   "name": "python3"
  },
  "language_info": {
   "codemirror_mode": {
    "name": "ipython",
    "version": 3
   },
   "file_extension": ".py",
   "mimetype": "text/x-python",
   "name": "python",
   "nbconvert_exporter": "python",
   "pygments_lexer": "ipython3",
   "version": "3.10.5"
  }
 },
 "nbformat": 4,
 "nbformat_minor": 4
}
