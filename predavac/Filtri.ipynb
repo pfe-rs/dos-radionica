{
 "cells": [
  {
   "cell_type": "code",
   "execution_count": null,
   "id": "cd52d682",
   "metadata": {},
   "outputs": [],
   "source": [
    "%matplotlib widget\n",
    "from scipy.io import wavfile\n",
    "from scipy import signal\n",
    "import matplotlib.pyplot as plt\n",
    "import IPython\n",
    "import numpy as np\n",
    "from ipywidgets import interact"
   ]
  },
  {
   "cell_type": "code",
   "execution_count": null,
   "id": "9418c799",
   "metadata": {},
   "outputs": [],
   "source": [
    "rate, wav = wavfile.read(\"dataset/Elesdi_se_vraca_kuci_mono.wav\")"
   ]
  },
  {
   "cell_type": "code",
   "execution_count": null,
   "id": "e4e1be02",
   "metadata": {
    "scrolled": true
   },
   "outputs": [],
   "source": [
    "fig, (ax1, ax2) = plt.subplots(1, 2, sharex = \"col\", figsize=(10, 4), sharey=\"col\")\n",
    "ax1.specgram(wav, Fs=rate)\n",
    "ax2.magnitude_spectrum(wav[:int(3*rate)], Fs=rate, scale='dB');\n",
    "ax2.set_ylim(-120, 70);\n",
    "ax2.grid();\n",
    "IPython.display.Audio(data=wav, rate=rate)"
   ]
  },
  {
   "cell_type": "code",
   "execution_count": null,
   "id": "2b9a3899",
   "metadata": {},
   "outputs": [],
   "source": [
    "rate, noised_wav = wavfile.read(\"dataset/Elesdi_se_vraca_kuci_mono_noised.wav\")"
   ]
  },
  {
   "cell_type": "code",
   "execution_count": null,
   "id": "4764c429",
   "metadata": {},
   "outputs": [],
   "source": [
    "fig, (ax1, ax2) = plt.subplots(1, 2, sharex = \"col\", figsize=(10, 4), sharey=\"col\")\n",
    "ax1.specgram(noised_wav, Fs=rate)\n",
    "ax2.magnitude_spectrum(noised_wav[:int(3*rate)], Fs=rate, scale='dB');\n",
    "ax2.set_ylim(-120, 70);\n",
    "ax2.grid();\n",
    "IPython.display.Audio(data=noised_wav, rate=rate)"
   ]
  },
  {
   "cell_type": "code",
   "execution_count": null,
   "id": "c9e84407",
   "metadata": {},
   "outputs": [],
   "source": [
    "plt.figure()\n",
    "plt.magnitude_spectrum(noised_wav[:int(3*rate)], Fs=rate, scale='dB');\n",
    "plt.magnitude_spectrum(wav[:int(3*rate)], Fs=rate, scale='dB');\n",
    "plt.ylim(-120, 70);\n",
    "plt.grid();"
   ]
  },
  {
   "cell_type": "markdown",
   "id": "1183954f",
   "metadata": {},
   "source": [
    "# Filtri\n",
    "Sistemi za slabljenje odredjenih delova frekvencijskog spektra\n",
    "\n",
    "# Tipovi Filtara\n",
    "Osnovni filtri su: \n",
    "\n",
    "Low-Pass (LP; Niskofrekventni filtar) - Propušta sve sinusoide sa frekvencijom koja je manja od neke granične frekvencije.\n",
    "\n",
    "High-Pass (HP; Visokofrekventni filtar) - Propušta sve sinusoide sa frekvencijom koja je veća od neke granične frekvencije.\n",
    "\n",
    "Band-Pass (BP; Filtar propusnik opsega) - Propušta sve sinusoide sa frekvencijom koja je između neke dve granične frekvencije.\n",
    "\n",
    "Band-Stop (BS; Filtar nepropusnik opsega) - Propušta sve sinusoide sa frekvencijom koja nije između neke dve granične frekvencije.\n",
    "\n",
    "<center><img src=\"dataset/images/filterTypes.png\"/></center>\n",
    "\n",
    "Da bi smo znali kakav filtar tražimo, moramo znati šta on treba da radi.\n",
    "Pošto filtri nisu idealni, oni ne mogu savršeno propuštati u propusnoj zoni i savršeno nepropuštati u nepropusnoj zoni. Takodje, da bi prešli iz jedne zone u drugu, oni moraju imati i prelaznu zonu.\n",
    "\n",
    "Ovo sve se definiše gabaritima filtra, koji predstavljaju ekstremne slučajeve u frekventnoj karakteristici filtra.\n",
    "Na primer, za Low-Pass filtar, treba definisati najveće slabljenje u propusnom opsegu i najmanje slabljenje u nepropusnom opsegu.\n",
    "\n",
    "<center><img src=\"dataset/images/specifikacija.png\"/></center>\n",
    "\n",
    "\n",
    "# IIR Filtri\n",
    "\n",
    "Imaju odziv koji polako opada ali nikad ne dodje do nule. Dobijaju se digitalizacijom analognih filtara.\n",
    "Kako postoje više tipova analognih filtara, takozvane aproksimacije, postoji i više tipova IIR filtara, od kojih svaka ima različite karakteristike. Bitno je napomenuti da moraju da imaju frekvenciju odabiranja, jer su po prirodi diskretni. Za frekvenciju odabiranja uzimamo istu frekvenciju iz naše pesme."
   ]
  },
  {
   "cell_type": "code",
   "execution_count": null,
   "id": "2241d7cd",
   "metadata": {},
   "outputs": [],
   "source": [
    "fig, (ax1, ax2, ax3, ax4) = plt.subplots(4, 1, sharex = \"all\", figsize=(10, 8), sharey=\"all\")\n",
    "fig.subplots_adjust(hspace=0.2)\n",
    "\n",
    "N = 5 #Red filtra\n",
    "Wn = 4000 #Granična frekvencija\n",
    "rp = 1 #Maksimalna ateunacija u propusnom opsegu\n",
    "rs = 10 #Minimalna atenuacija u nepropusnom opsegu\n",
    "    \n",
    "butterB, butterA = signal.butter(N, Wn, fs=rate)\n",
    "w, h = signal.freqz(butterB, butterA, fs = rate)\n",
    "ax1.semilogx(w, 20*np.log10(h))\n",
    "\n",
    "cheby1B, cheby1A = signal.cheby1(N, rp, Wn, fs=rate)\n",
    "w, h = signal.freqz(cheby1B, cheby1A, fs = rate)\n",
    "ax2.semilogx(w, 20*np.log10(h))\n",
    "\n",
    "cheby2B, cheby2A = signal.cheby2(N, rs, Wn, fs=rate)\n",
    "w, h = signal.freqz(cheby2B, cheby2A, fs = rate)\n",
    "ax3.semilogx(w, 20*np.log10(h))\n",
    "\n",
    "ellipB, ellipA = signal.ellip(N, rp, rs, Wn, fs=rate)\n",
    "w, h = signal.freqz(ellipB, ellipA, fs = rate)\n",
    "ax4.semilogx(w, 20*np.log10(h))\n",
    "\n",
    "ax1.set_ylim(-40, 10)\n",
    "\n",
    "ax1.axvline(Wn, color='green')\n",
    "ax2.axvline(Wn, color='green')\n",
    "ax3.axvline(Wn, color='green')\n",
    "ax4.axvline(Wn, color='green')\n",
    "\n",
    "ax2.axhline(-rp, color='green', ls='--')\n",
    "ax3.axhline(-rs, color='green', ls='--')\n",
    "ax4.axhline(-rp, color='green', ls='--')\n",
    "ax4.axhline(-rs, color='green', ls='--')\n",
    "\n",
    "ax1.grid()\n",
    "ax2.grid()\n",
    "ax3.grid()\n",
    "ax4.grid()\n"
   ]
  },
  {
   "cell_type": "markdown",
   "id": "7cf32ec7",
   "metadata": {},
   "source": [
    "U prethodnom kodu, najbitniji parametri za razmatranje su N i Wn, gde je N red filtra, gde veći redovi fitara predstavljaju \"jače\" filtre, koji su, u zavisnosti od aproksimacije, sa bržim opadanjem, manjom prelaznom zonom i slično. Za butterworthovu aproksimaciju na primer, to predstavlja brzinu opadanja van propusne zone. Wn predstavlja kraj propusne zone, tj graničnu frekvenciju."
   ]
  },
  {
   "cell_type": "code",
   "execution_count": null,
   "id": "2551e220",
   "metadata": {},
   "outputs": [],
   "source": [
    "fig, ax = plt.subplots(1, 1, figsize=(10, 5))\n",
    "\n",
    "Wn = 4000\n",
    "\n",
    "for N in range(1, 10, 2):\n",
    "    b, a = signal.butter(N, Wn, fs=rate)\n",
    "    w, h = signal.freqz(b, a, fs=rate)\n",
    "    ax.semilogx(w, 20*np.log10(h), label = f\"{N}\")\n",
    "\n",
    "\n",
    "ax.set_ylim(-40, 10)\n",
    "\n",
    "ax.legend()\n",
    "ax.grid()"
   ]
  },
  {
   "cell_type": "markdown",
   "id": "9aca1c9c",
   "metadata": {},
   "source": [
    "Hajde da probamo da filtriramo našu pesmu batervortovim filtrom 5-og reda, sa graničnom frekvencijom od 4kHz. To je filtar koji smo napravili iznad u uporedjivanju različitih aproksimacija."
   ]
  },
  {
   "cell_type": "code",
   "execution_count": null,
   "id": "3a4f4630",
   "metadata": {},
   "outputs": [],
   "source": [
    "upitno_filtriran_wav = signal.lfilter(butterB, butterA, noised_wav)"
   ]
  },
  {
   "cell_type": "code",
   "execution_count": null,
   "id": "47507bb8",
   "metadata": {},
   "outputs": [],
   "source": [
    "fig, (ax1, ax2) = plt.subplots(1, 2, sharex = \"col\", figsize=(10, 4), sharey=\"col\")\n",
    "ax1.specgram(upitno_filtriran_wav, Fs=rate)\n",
    "ax2.magnitude_spectrum(upitno_filtriran_wav[:int(3*rate)], Fs=rate, scale='dB');\n",
    "ax2.magnitude_spectrum(wav[:int(3*rate)], Fs=rate, scale='dB');\n",
    "ax2.set_ylim(-120, 70);\n",
    "ax2.grid();\n",
    "IPython.display.Audio(data=upitno_filtriran_wav, rate=rate)"
   ]
  },
  {
   "cell_type": "markdown",
   "id": "f4f4b15e",
   "metadata": {},
   "source": [
    "Sa grafika, a i sluhom takođe se može utvrditi da ovo rešenje nije optimalno. Svi visoki tonovi su ubijeni, a pištanje na 5kHz je i dalje postojano. Stoga nam je potrebno bolje rešenje. Za početak ćemo probati samo da ubijemo pištanje na 5kHz."
   ]
  },
  {
   "cell_type": "code",
   "execution_count": null,
   "id": "f8b12801",
   "metadata": {},
   "outputs": [],
   "source": [
    "bandstop5kHz = signal.butter(5, (4900, 5100), 'bandstop', fs=rate)\n",
    "malo_bolje_filtriran_wav = signal.lfilter(bandstop5kHz[0], bandstop5kHz[1], noised_wav)"
   ]
  },
  {
   "cell_type": "code",
   "execution_count": null,
   "id": "71fc3132",
   "metadata": {},
   "outputs": [],
   "source": [
    "fig, (ax1, ax2) = plt.subplots(1, 2, sharex = \"col\", figsize=(10, 4), sharey=\"col\")\n",
    "ax1.specgram(malo_bolje_filtriran_wav, Fs=rate)\n",
    "ax2.magnitude_spectrum(malo_bolje_filtriran_wav[:int(3*rate)], Fs=rate, scale='dB');\n",
    "ax2.magnitude_spectrum(wav[:int(3*rate)], Fs=rate, scale='dB');\n",
    "ax2.set_ylim(-120, 70);\n",
    "ax2.grid();\n",
    "IPython.display.Audio(data=malo_bolje_filtriran_wav, rate=rate)"
   ]
  },
  {
   "cell_type": "markdown",
   "id": "1e2e177e",
   "metadata": {},
   "source": [
    "Može se primetiti da je sve na 5kHz potpuno utišano. Takodje nam ostaje šum izmedju 8 i 10 kHz. To je sledeće potrebno filtrirati."
   ]
  },
  {
   "cell_type": "code",
   "execution_count": null,
   "id": "f79c520b",
   "metadata": {},
   "outputs": [],
   "source": [
    "bandstop8kHz12kHz = signal.ellip(12, 0.1, 70, (7900, 12100), 'bandstop', fs=rate)\n",
    "dosta_bolje_filtriran_wav = signal.lfilter(bandstop8kHz12kHz[0], bandstop8kHz12kHz[1], malo_bolje_filtriran_wav)"
   ]
  },
  {
   "cell_type": "code",
   "execution_count": null,
   "id": "89876be6",
   "metadata": {},
   "outputs": [],
   "source": [
    "fig, (ax1, ax2) = plt.subplots(1, 2, sharex = \"col\", figsize=(10, 4), sharey=\"col\")\n",
    "ax1.specgram(dosta_bolje_filtriran_wav, Fs=rate)\n",
    "ax2.magnitude_spectrum(dosta_bolje_filtriran_wav[:int(3*rate)], Fs=rate, scale='dB');\n",
    "ax2.magnitude_spectrum(wav[:int(3*rate)], Fs=rate, scale='dB');\n",
    "ax2.set_ylim(-120, 70);\n",
    "ax2.grid();\n",
    "IPython.display.Audio(data=dosta_bolje_filtriran_wav, rate=rate)"
   ]
  },
  {
   "cell_type": "markdown",
   "id": "a982a9ba",
   "metadata": {},
   "source": [
    "# FIR Filtri\n",
    "\n",
    "Imaju odziv konstantne dužine. Dobijaju se direktnim projektovanjem u digitalnom domenu. Prednost toga je što mogu da budu i stepeničastog oblika, tj da imaju različite gabarite za različite opsege. \n",
    "\n",
    "<center><img src=\"dataset/images/stepenice.svg\" /></center>\n",
    "\n",
    "Mnogo su jednostavniji za implementaciju od IIR filtara, uvek su stabilni i imaju linearnu fazu (konstantno vremensko kašnjenje).\n",
    "\n",
    "Umesto reda je bitan broj odbiraka, i što je on veći, filtar može da radi ekstremnije stvari, tj može da ima veća slabljenja u nepropusnim zonama, manje prelazne zone i slično. To naravno dovodi i do sporijeg računanja i veće kompkleksnosti, stoga se treba truditi da taj broj bude minimalan moguć.\n",
    "\n",
    "Prvo ćemo napraviti Low-pass filter na 4kHz."
   ]
  },
  {
   "cell_type": "code",
   "execution_count": null,
   "id": "09705779",
   "metadata": {},
   "outputs": [],
   "source": [
    "fir4kHz = signal.firls(199, (0, 4000, 4100, rate//2), (1, 1, 0, 0), fs=rate)"
   ]
  },
  {
   "cell_type": "code",
   "execution_count": null,
   "id": "8c37b14b",
   "metadata": {},
   "outputs": [],
   "source": [
    "plt.figure()\n",
    "\n",
    "w, h = signal.freqz(fir4kHz)\n",
    "\n",
    "plt.semilogx(0.5*rate*w/np.pi, np.real(20*np.log10(h)))\n",
    "\n",
    "plt.grid()"
   ]
  },
  {
   "cell_type": "markdown",
   "id": "7301db99",
   "metadata": {},
   "source": [
    "Hajde da takođe probamo da projektujemo Band-pass za 5kHz.\n"
   ]
  },
  {
   "cell_type": "code",
   "execution_count": null,
   "id": "d88492ae",
   "metadata": {},
   "outputs": [],
   "source": [
    "fir5kHz = signal.firls(199, (0, 4900, 4950, 5050, 5100, rate//2), (1, 1, 0, 0, 1, 1), fs=rate)"
   ]
  },
  {
   "cell_type": "code",
   "execution_count": null,
   "id": "e746ab66",
   "metadata": {},
   "outputs": [],
   "source": [
    "plt.figure()\n",
    "\n",
    "w, h = signal.freqz(fir5kHz)\n",
    "\n",
    "plt.semilogx(0.5*rate*w/np.pi, np.real(20*np.log10(h)))\n",
    "\n",
    "plt.grid()"
   ]
  },
  {
   "cell_type": "markdown",
   "id": "4b098f87",
   "metadata": {},
   "source": [
    "Ukoliko nismo zadovoljni dobijenim filterom, možemo povećavati brojeve odbiraka."
   ]
  },
  {
   "cell_type": "code",
   "execution_count": null,
   "id": "3727581c",
   "metadata": {},
   "outputs": [],
   "source": [
    "fir5kHz_longer = signal.firls(699, (0, 4850, 4900, 5100, 5150, rate//2), (1, 1, 0, 0, 1, 1), fs=rate)"
   ]
  },
  {
   "cell_type": "code",
   "execution_count": null,
   "id": "c5944e13",
   "metadata": {},
   "outputs": [],
   "source": [
    "plt.figure()\n",
    "\n",
    "w, h = signal.freqz(fir5kHz_longer)\n",
    "\n",
    "plt.semilogx(0.5*rate*w/np.pi, np.real(20*np.log10(h)))\n",
    "\n",
    "plt.grid()"
   ]
  },
  {
   "cell_type": "markdown",
   "id": "b5081f1f",
   "metadata": {},
   "source": [
    "Hajde da primenimo ovaj filtar na nas zašumljen signal."
   ]
  },
  {
   "cell_type": "code",
   "execution_count": null,
   "id": "becc1dda",
   "metadata": {},
   "outputs": [],
   "source": [
    "fir5kHz_wav = signal.lfilter(fir5kHz_longer, [1.0], noised_wav)"
   ]
  },
  {
   "cell_type": "code",
   "execution_count": null,
   "id": "09bcf7d1",
   "metadata": {},
   "outputs": [],
   "source": [
    "fig, (ax1, ax2) = plt.subplots(1, 2, sharex = \"col\", figsize=(10, 4), sharey=\"col\")\n",
    "ax1.specgram(fir5kHz_wav, Fs=rate)\n",
    "ax2.magnitude_spectrum(fir5kHz_wav[:int(3*rate)], Fs=rate, scale='dB');\n",
    "ax2.magnitude_spectrum(wav[:int(3*rate)], Fs=rate, scale='dB');\n",
    "ax2.set_ylim(-120, 70);\n",
    "ax2.grid();\n",
    "IPython.display.Audio(data=fir5kHz_wav, rate=rate)"
   ]
  },
  {
   "cell_type": "markdown",
   "id": "a7a4c155",
   "metadata": {},
   "source": [
    "Očigledno je da je filter dobro izbacio pištanje na 5kHz.\n",
    "Takodje je potrebno napraviti Band-pass od 8kHz do 12kHz."
   ]
  },
  {
   "cell_type": "code",
   "execution_count": null,
   "id": "0c771da5",
   "metadata": {},
   "outputs": [],
   "source": [
    "fir8kHz12kHz = signal.firls(699, (0, 7900, 8000, 12000, 12100, rate//2), (1, 1, 0, 0, 1, 1), fs=rate)"
   ]
  },
  {
   "cell_type": "code",
   "execution_count": null,
   "id": "0c07b446",
   "metadata": {},
   "outputs": [],
   "source": [
    "plt.figure()\n",
    "\n",
    "w, h = signal.freqz(fir8kHz12kHz)\n",
    "\n",
    "plt.semilogx(0.5*rate*w/np.pi, np.real(20*np.log10(h)))\n",
    "\n",
    "plt.grid()"
   ]
  },
  {
   "cell_type": "code",
   "execution_count": null,
   "id": "9809b023",
   "metadata": {},
   "outputs": [],
   "source": [
    "fir_filtered_wav = signal.lfilter(fir8kHz12kHz, [1.0], fir5kHz_wav)"
   ]
  },
  {
   "cell_type": "code",
   "execution_count": null,
   "id": "31fa379e",
   "metadata": {},
   "outputs": [],
   "source": [
    "fig, (ax1, ax2) = plt.subplots(1, 2, sharex = \"col\", figsize=(10, 4), sharey=\"col\")\n",
    "ax1.specgram(fir_filtered_wav, Fs=rate)\n",
    "ax2.magnitude_spectrum(fir_filtered_wav[:int(3*rate)], Fs=rate, scale='dB');\n",
    "ax2.magnitude_spectrum(wav[:int(3*rate)], Fs=rate, scale='dB');\n",
    "ax2.set_ylim(-120, 70);\n",
    "ax2.grid();\n",
    "IPython.display.Audio(data=fir_filtered_wav, rate=rate)"
   ]
  },
  {
   "cell_type": "markdown",
   "id": "bdd9d20f",
   "metadata": {},
   "source": [
    "Takođe je moguće napraviti objedinjen filter ovom metodom."
   ]
  },
  {
   "cell_type": "code",
   "execution_count": null,
   "id": "dcfbe6f7",
   "metadata": {},
   "outputs": [],
   "source": [
    "fir_combined = signal.firls(699, (0, 4800, 4900, 5100, 5200, 7800, 7900, 12100, 12200, rate//2), (1, 1, 0, 0, 1, 1, 0, 0, 1, 1), fs=rate)"
   ]
  },
  {
   "cell_type": "code",
   "execution_count": null,
   "id": "c47a5ff1",
   "metadata": {},
   "outputs": [],
   "source": [
    "plt.figure()\n",
    "\n",
    "w, h = signal.freqz(fir_combined)\n",
    "\n",
    "plt.semilogx(0.5*rate*w/np.pi, np.real(20*np.log10(h)))\n",
    "\n",
    "plt.grid()"
   ]
  },
  {
   "cell_type": "code",
   "execution_count": null,
   "id": "b3aebe31",
   "metadata": {},
   "outputs": [],
   "source": [
    "fir_filtered_combined_wav = signal.lfilter(fir_combined, [1.0], noised_wav)"
   ]
  },
  {
   "cell_type": "code",
   "execution_count": null,
   "id": "d3c9bf94",
   "metadata": {},
   "outputs": [],
   "source": [
    "fig, (ax1, ax2) = plt.subplots(1, 2, sharex = \"col\", figsize=(10, 4), sharey=\"col\")\n",
    "ax1.specgram(fir_filtered_combined_wav, Fs=rate)\n",
    "ax2.magnitude_spectrum(fir_filtered_combined_wav[:int(3*rate)], Fs=rate, scale='dB');\n",
    "ax2.magnitude_spectrum(wav[:int(3*rate)], Fs=rate, scale='dB');\n",
    "ax2.set_ylim(-120, 70);\n",
    "ax2.grid();\n",
    "IPython.display.Audio(data=fir_filtered_combined_wav, rate=rate)"
   ]
  },
  {
   "cell_type": "markdown",
   "id": "d80ee3fd",
   "metadata": {},
   "source": [
    "# Implementacije\n",
    "\n",
    "Direktna Implementacija FIR filtra\n",
    "\n",
    "<center><img src=\"dataset/images/directFir.png\"/></center>\n",
    "\n",
    "Kanonička Implementacija IIR filtra\n",
    "\n",
    "<center><img src=\"dataset/images/CanonicalIIR.png\"/></center>"
   ]
  }
 ],
 "metadata": {
  "kernelspec": {
   "display_name": "Python 3 (ipykernel)",
   "language": "python",
   "name": "python3"
  },
  "language_info": {
   "codemirror_mode": {
    "name": "ipython",
    "version": 3
   },
   "file_extension": ".py",
   "mimetype": "text/x-python",
   "name": "python",
   "nbconvert_exporter": "python",
   "pygments_lexer": "ipython3",
   "version": "3.11.1"
  }
 },
 "nbformat": 4,
 "nbformat_minor": 5
}
