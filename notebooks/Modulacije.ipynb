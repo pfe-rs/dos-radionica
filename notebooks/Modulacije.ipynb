{
 "cells": [
  {
   "cell_type": "code",
   "execution_count": null,
   "id": "cd52d682",
   "metadata": {},
   "outputs": [],
   "source": [
    "%matplotlib widget\n",
    "from scipy.io import wavfile\n",
    "from scipy import signal\n",
    "import matplotlib.pyplot as plt\n",
    "import IPython\n",
    "import numpy as np\n",
    "from ipywidgets import interact"
   ]
  },
  {
   "cell_type": "markdown",
   "id": "676ea30d",
   "metadata": {},
   "source": [
    "# Modulacije\n",
    "\n",
    "Ideja modulacija je da spakuju signali sa nekom nižom frekvencijom u signal sa značajno višom frekvencijom. Tada je moguće da se prenose radio talasima ili optikom. Pre se to radilo analogno, sa npr radio stanicama i FM prijemnicima, dok se danas to uglavnom radi digitalno.\n",
    "\n",
    "# Amplitudska Modulacija\n",
    "\n",
    "AM je jedna od prvih korišćenih modulacija (kada stariji kažu dugi talasi) i ona je veoma jednostavna za implementaciju. Njena mana je što nije toliko otporna na šum.\n",
    "\n",
    "Implementira se tako što se amplituda signala visoke frekvencije smanjuje ili povećava, srazmerno sa ulaznim modulišućim signalom."
   ]
  },
  {
   "cell_type": "code",
   "execution_count": null,
   "id": "6a822af5",
   "metadata": {},
   "outputs": [],
   "source": [
    "fs = 200e3\n",
    "tmax = 10e-3\n",
    "\n",
    "f_signal = 1e3\n",
    "\n",
    "ts = np.linspace(0, tmax, int(tmax * fs))\n",
    "\n",
    "modulator = np.sin(2 * np.pi * f_signal * ts)"
   ]
  },
  {
   "cell_type": "code",
   "execution_count": null,
   "id": "47eddca5",
   "metadata": {},
   "outputs": [],
   "source": [
    "Ac = 1 #Amplituda nosioca\n",
    "Am = 0.5 #Amplituda modulišućeg signala\n",
    "\n",
    "fc = 10e3\n",
    "\n",
    "carrier = np.sin(2 * np.pi * fc * ts)"
   ]
  },
  {
   "cell_type": "code",
   "execution_count": null,
   "id": "c52916bb",
   "metadata": {},
   "outputs": [],
   "source": [
    "carrier_AM = (Ac + Am * modulator) * carrier\n",
    "amplitude = np.abs(signal.hilbert(carrier_AM))"
   ]
  },
  {
   "cell_type": "code",
   "execution_count": null,
   "id": "b15af602",
   "metadata": {},
   "outputs": [],
   "source": [
    "fig, ((ax1, ax4), (ax2, ax5), (ax3, ax6)) = plt.subplots(3, 2, sharex = \"col\", figsize=(10, 6), sharey=\"col\")\n",
    "ax1.plot(ts, modulator)\n",
    "ax2.plot(ts, carrier)\n",
    "ax3.plot(ts, carrier_AM)\n",
    "ax3.plot(ts, amplitude);\n",
    "\n",
    "ax4.magnitude_spectrum(modulator, Fs=fs, scale='dB');\n",
    "ax5.magnitude_spectrum(carrier, Fs=fs, scale='dB');\n",
    "ax6.magnitude_spectrum(carrier_AM, Fs=fs, scale='dB');"
   ]
  },
  {
   "cell_type": "code",
   "execution_count": null,
   "id": "1b3501fb",
   "metadata": {},
   "outputs": [],
   "source": [
    "plt.figure()\n",
    "plt.specgram(carrier_AM, Fs=fs, scale=\"linear\", NFFT = 64, noverlap=32)\n",
    "plt.ylim(5e3, 15e3)"
   ]
  },
  {
   "cell_type": "markdown",
   "id": "cce35988",
   "metadata": {},
   "source": [
    "Ovakav signal je onda moguće odašiljati pomoću antene u etar.\n",
    "\n",
    "Demodulacija AM signala se može izvršiti na više načina. Prvi je merenje envelope, i tako su radili prvi demodulatori (diodni detektori).\n",
    "\n",
    "<center><img src=\"dataset/images/envelope-detector.png\"/></center>\n",
    "\n",
    "Takodje je moguće demodulisati signal množenjem sa nemodulisanim nosećim signalom (product detector).\n",
    "\n",
    "<center><img src=\"dataset/images/product-detector.png\"/></center>"
   ]
  },
  {
   "cell_type": "code",
   "execution_count": null,
   "id": "418963e1",
   "metadata": {},
   "outputs": [],
   "source": [
    "def simulateDiodeDetector(x, R, C, fs):\n",
    "    output = np.zeros_like(x)\n",
    "    t = 0\n",
    "    Vc = x[0]\n",
    "    output[0] = x[0]\n",
    "    \n",
    "    dt = 1 / fs\n",
    "    \n",
    "    for i in range(1, len(x)):\n",
    "        Vc = Vc * np.exp(- dt / (R * C))\n",
    "        if x[i] > Vc:\n",
    "            Vc = x[i]\n",
    "\n",
    "        output[i] = Vc\n",
    "        \n",
    "    return output\n",
    "\n",
    "diodeDetected = simulateDiodeDetector(carrier_AM, 10e3, 0.047e-6, fs)"
   ]
  },
  {
   "cell_type": "code",
   "execution_count": null,
   "id": "ec90c517",
   "metadata": {},
   "outputs": [],
   "source": [
    "fig, (ax1, ax2) = plt.subplots(1, 2, sharex = \"col\", figsize=(10, 4), sharey=\"col\")\n",
    "ax1.plot(ts, carrier_AM)\n",
    "ax1.plot(ts, amplitude)\n",
    "ax1.plot(ts, diodeDetected);\n",
    "\n",
    "ax2.magnitude_spectrum(carrier_AM, Fs=fs, scale='dB');\n",
    "ax2.magnitude_spectrum(amplitude, Fs=fs, scale='dB');\n",
    "ax2.magnitude_spectrum(diodeDetected, Fs=fs, scale='dB');"
   ]
  },
  {
   "cell_type": "markdown",
   "id": "bf0ef1d9",
   "metadata": {},
   "source": [
    "Kako zvučnici imaju pretežnu Band-Pass karakteristiku, ovaj signal se može razaznati."
   ]
  },
  {
   "cell_type": "code",
   "execution_count": null,
   "id": "f9f04103",
   "metadata": {},
   "outputs": [],
   "source": [
    "audioLowPassFilter = signal.butter(20, 20000, fs=fs)"
   ]
  },
  {
   "cell_type": "code",
   "execution_count": null,
   "id": "4ce00462",
   "metadata": {},
   "outputs": [],
   "source": [
    "speakerModel = signal.ellip(6, 0.1, 20, (2000, 10000), 'bandpass', fs=fs)"
   ]
  },
  {
   "cell_type": "code",
   "execution_count": null,
   "id": "9aa4bf98",
   "metadata": {},
   "outputs": [],
   "source": [
    "filteredDiodeDetected_audio = signal.lfilter(audioLowPassFilter[0], audioLowPassFilter[1], diodeDetected)\n",
    "filteredDiodeDetected = signal.lfilter(speakerModel[0], speakerModel[1], filteredDiodeDetected_audio)"
   ]
  },
  {
   "cell_type": "code",
   "execution_count": null,
   "id": "c9c36317",
   "metadata": {},
   "outputs": [],
   "source": [
    "fig, (ax1, ax2) = plt.subplots(1, 2, sharex = \"col\", figsize=(10, 4), sharey=\"col\")\n",
    "ax1.plot(ts, modulator)\n",
    "ax1_2 = ax1.twinx()\n",
    "ax1_2.plot(ts, filteredDiodeDetected, c=\"orange\");\n",
    "\n",
    "ax2.magnitude_spectrum(modulator, Fs=fs, scale='dB');\n",
    "ax2.magnitude_spectrum(filteredDiodeDetected, Fs=fs, scale='dB');"
   ]
  },
  {
   "cell_type": "code",
   "execution_count": null,
   "id": "d689f42a",
   "metadata": {},
   "outputs": [],
   "source": [
    "productDemodulated = carrier_AM * carrier"
   ]
  },
  {
   "cell_type": "code",
   "execution_count": null,
   "id": "ae3cc4d6",
   "metadata": {},
   "outputs": [],
   "source": [
    "fig, ((ax1, ax4), (ax2, ax5), (ax3, ax6)) = plt.subplots(3, 2, sharex = \"col\", figsize=(10, 6), sharey=\"col\")\n",
    "ax1.plot(ts, carrier_AM)\n",
    "ax1.plot(ts, amplitude);\n",
    "ax2.plot(ts, carrier)\n",
    "ax3.plot(ts, productDemodulated)\n",
    "\n",
    "ax4.magnitude_spectrum(carrier_AM, Fs=fs, scale='dB');\n",
    "ax5.magnitude_spectrum(carrier, Fs=fs, scale='dB');\n",
    "ax6.magnitude_spectrum(productDemodulated, Fs=fs, scale='dB');"
   ]
  },
  {
   "cell_type": "code",
   "execution_count": null,
   "id": "9613de5c",
   "metadata": {},
   "outputs": [],
   "source": [
    "filteredProductDemodulated_audio = signal.lfilter(audioLowPassFilter[0], audioLowPassFilter[1], productDemodulated)\n",
    "filteredProductDemodulated = signal.lfilter(speakerModel[0], speakerModel[1], filteredProductDemodulated_audio)"
   ]
  },
  {
   "cell_type": "code",
   "execution_count": null,
   "id": "084ba4da",
   "metadata": {},
   "outputs": [],
   "source": [
    "fig, ((ax1, ax3), (ax2, ax4)) = plt.subplots(2, 2, sharex = \"col\", figsize=(10, 6))\n",
    "ax1.plot(ts, productDemodulated)\n",
    "ax1.plot(ts, amplitude);\n",
    "\n",
    "ax2.plot(ts, filteredDiodeDetected, c=\"orange\");\n",
    "\n",
    "ax2.plot(ts, filteredProductDemodulated)\n",
    "\n",
    "\n",
    "ax3.magnitude_spectrum(productDemodulated, Fs=fs, scale='dB');\n",
    "ax4.magnitude_spectrum(modulator, Fs=fs, scale='dB');\n",
    "ax4.magnitude_spectrum(filteredProductDemodulated, Fs=fs, scale='dB');\n"
   ]
  }
 ],
 "metadata": {
  "kernelspec": {
   "display_name": "Python 3 (ipykernel)",
   "language": "python",
   "name": "python3"
  },
  "language_info": {
   "codemirror_mode": {
    "name": "ipython",
    "version": 3
   },
   "file_extension": ".py",
   "mimetype": "text/x-python",
   "name": "python",
   "nbconvert_exporter": "python",
   "pygments_lexer": "ipython3",
   "version": "3.11.1"
  }
 },
 "nbformat": 4,
 "nbformat_minor": 5
}
