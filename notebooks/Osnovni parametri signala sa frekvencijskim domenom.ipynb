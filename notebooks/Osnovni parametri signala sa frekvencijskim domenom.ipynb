{
 "cells": [
  {
   "cell_type": "code",
   "execution_count": 39,
   "id": "6de29203",
   "metadata": {},
   "outputs": [],
   "source": [
    "import numpy as np\n",
    "import matplotlib.pyplot as plt\n",
    "from ipywidgets import interact\n",
    "import scipy.fft as fft"
   ]
  },
  {
   "cell_type": "code",
   "execution_count": 46,
   "id": "35a77766",
   "metadata": {},
   "outputs": [
    {
     "data": {
      "application/vnd.jupyter.widget-view+json": {
       "model_id": "5813e0c1882d41ac88f072af208e6002",
       "version_major": 2,
       "version_minor": 0
      },
      "text/plain": [
       "interactive(children=(IntSlider(value=500, description='A1', max=1000), IntSlider(value=500, description='A2',…"
      ]
     },
     "metadata": {},
     "output_type": "display_data"
    }
   ],
   "source": [
    "@interact(A1=(0, 1000), A2 = (0, 1000))\n",
    "def amplitude(A1, A2):\n",
    "    t = np.linspace(0, 1, 1000)\n",
    "    s1 = A1 * np.sin(2 * np.pi * t)\n",
    "    s2 = A2 * np.cos(2 * np.pi * t)\n",
    "    S1 = np.abs(fft.fft(s1))\n",
    "    S2 = np.abs(fft.fft(s2))\n",
    "    N = len(S1)\n",
    "    n = np.arange(N)\n",
    "    T = N/1000\n",
    "    freq = n/T\n",
    "    n_oneside = N//2\n",
    "    f_oneside = freq[:n_oneside]\n",
    "    S1_oneside =S1[:n_oneside]/n_oneside\n",
    "    S2_oneside =S2[:n_oneside]/n_oneside\n",
    "    \n",
    "    plt.figure(1,figsize=(8, 6), dpi=150) \n",
    "    plt.subplot(2,1,1)\n",
    "    plt.plot(t, s1, color=\"b\")\n",
    "    plt.plot(t, s2, color=\"r\")\n",
    "    plt.xlabel('t')\n",
    "    plt.ylabel('s1, s2')\n",
    "    plt.title('Amplituda')\n",
    "    plt.grid()\n",
    "    plt.subplots_adjust(hspace=0.3)\n",
    "    plt.subplot(2,1,2)\n",
    "    plt.stem(f_oneside, abs(S1_oneside), linefmt='b', markerfmt=\" \", basefmt=\"-b\")\n",
    "    plt.stem(f_oneside, abs(S2_oneside), linefmt='r', markerfmt=\" \", basefmt=\"-r\")\n",
    "    plt.xlabel('Frekvencija [Hz]')\n",
    "    plt.ylabel('Normalizovana amplituda')\n",
    "    plt.title('Frekvencijski domen')\n",
    "    plt.grid()\n",
    "    plt.show()\n"
   ]
  },
  {
   "cell_type": "code",
   "execution_count": 45,
   "id": "fef05f95",
   "metadata": {},
   "outputs": [
    {
     "data": {
      "application/vnd.jupyter.widget-view+json": {
       "model_id": "7d20e73c670d481ab38a9c5d33b92375",
       "version_major": 2,
       "version_minor": 0
      },
      "text/plain": [
       "interactive(children=(IntSlider(value=500, description='P1', max=1000), IntSlider(value=500, description='P2',…"
      ]
     },
     "metadata": {},
     "output_type": "display_data"
    }
   ],
   "source": [
    "@interact(P1 = (0, 1000), P2 = (0, 1000))\n",
    "def power(P1, P2):\n",
    "    \n",
    "    t = np.linspace(0, 1, 1000)\n",
    "    s1 = np.sqrt(P1) * np.sin(2 * np.pi * t)\n",
    "    s2 = np.sqrt(P2) * np.cos(2 * np.pi * t)\n",
    "    S1 = np.abs(fft.fft(s1))\n",
    "    S2 = np.abs(fft.fft(s2))\n",
    "    N = len(S1)\n",
    "    n = np.arange(N)\n",
    "    T = N/1000\n",
    "    freq = n/T\n",
    "    n_oneside = N//2\n",
    "    f_oneside = freq[:n_oneside]\n",
    "    S1_oneside =S1[:n_oneside]/n_oneside\n",
    "    S2_oneside =S2[:n_oneside]/n_oneside\n",
    "\n",
    "    plt.figure(1,figsize=(8, 6), dpi=150) \n",
    "    plt.subplot(2,1,1)\n",
    "    plt.plot(t, s1, color=\"b\")\n",
    "    plt.plot(t, s2, color=\"r\")\n",
    "    plt.xlabel('t')\n",
    "    plt.ylabel('s1, s2')\n",
    "    plt.title('Amplituda')\n",
    "    plt.grid()\n",
    "    plt.subplots_adjust(hspace=0.3)\n",
    "    plt.subplot(2,1,2)\n",
    "    plt.stem(f_oneside, abs(S1_oneside), linefmt='b', markerfmt=\" \", basefmt=\"-b\")\n",
    "    plt.stem(f_oneside, abs(S2_oneside), linefmt='r', markerfmt=\" \", basefmt=\"-r\")\n",
    "    plt.xlabel('Frekvencija [Hz]')\n",
    "    plt.ylabel('Normalizovana amplituda')\n",
    "    plt.title('Frekvencijski domen')\n",
    "    plt.grid()\n",
    "    plt.show()\n",
    "\n"
   ]
  },
  {
   "cell_type": "code",
   "execution_count": null,
   "id": "deedf710",
   "metadata": {},
   "outputs": [],
   "source": []
  }
 ],
 "metadata": {
  "kernelspec": {
   "display_name": "Python 3 (ipykernel)",
   "language": "python",
   "name": "python3"
  },
  "language_info": {
   "codemirror_mode": {
    "name": "ipython",
    "version": 3
   },
   "file_extension": ".py",
   "mimetype": "text/x-python",
   "name": "python",
   "nbconvert_exporter": "python",
   "pygments_lexer": "ipython3",
   "version": "3.9.7"
  }
 },
 "nbformat": 4,
 "nbformat_minor": 5
}
