{
 "cells": [
  {
   "cell_type": "code",
   "execution_count": null,
   "metadata": {},
   "outputs": [],
   "source": [
    "import numpy as np\n",
    "import matplotlib.pyplot as plt\n",
    "from ipywidgets import interact"
   ]
  },
  {
   "cell_type": "markdown",
   "metadata": {},
   "source": [
    "### Amplituda"
   ]
  },
  {
   "cell_type": "code",
   "execution_count": null,
   "metadata": {},
   "outputs": [],
   "source": [
    "@interact(A1=(0, 1000), A2 = (0, 1000))\n",
    "def amplitude(A1, A2):\n",
    "    t = np.linspace(0, 1, 1000)\n",
    "    s1 = A1 * np.sin(2 * np.pi * t)\n",
    "    s2 = A2 * np.cos(2 * np.pi * t)\n",
    "    plt.plot(t, s1)\n",
    "    plt.plot(t, s2)\n",
    "    plt.xlabel('t')\n",
    "    plt.ylabel('s1, s2')\n",
    "    plt.title('Amplituda')\n",
    "    plt.grid()\n",
    "    plt.show()"
   ]
  },
  {
   "cell_type": "markdown",
   "metadata": {},
   "source": [
    "### Frekvencija "
   ]
  },
  {
   "cell_type": "code",
   "execution_count": null,
   "metadata": {},
   "outputs": [],
   "source": [
    "@interact(f1 = (1, 5, 0.1), f2 = (1, 5, 0.1))\n",
    "def frequency(f1, f2):\n",
    "    t = np.linspace(0, 1, 1000)\n",
    "    s1 = np.sin(2 * np.pi * f1 * t)\n",
    "    s2 = np.cos(2 * np.pi * f2 * t)\n",
    "    plt.plot(t, s1)\n",
    "    plt.plot(t, s2)\n",
    "    plt.xlabel('t')\n",
    "    plt.ylabel('s1, s2')\n",
    "    plt.title('Frekvencija')\n",
    "    plt.grid()\n",
    "    plt.show()"
   ]
  },
  {
   "cell_type": "markdown",
   "metadata": {},
   "source": [
    "### Fazni pomeraj"
   ]
  },
  {
   "cell_type": "code",
   "execution_count": null,
   "metadata": {},
   "outputs": [],
   "source": [
    "@interact(phi1 = (0, 2 * np.pi, 0.1), phi2 = (0, 2 * np.pi, 0.1))\n",
    "def phase(phi1 = 0, phi2 = np.pi / 2):\n",
    "    t = np.linspace(0, 1, 1000)\n",
    "    s1 = np.sin(2 * np.pi * t + phi1)\n",
    "    s2 = np.sin(2 * np.pi * t + phi2)\n",
    "    plt.plot(t, s1)\n",
    "    plt.plot(t, s2)\n",
    "    plt.xlabel('t')\n",
    "    plt.ylabel('s1, s2')\n",
    "    plt.title('Faze')\n",
    "    plt.legend(['s1', 's2'])\n",
    "    plt.grid()\n",
    "    plt.show()"
   ]
  },
  {
   "cell_type": "markdown",
   "metadata": {},
   "source": [
    "### Srednja snaga"
   ]
  },
  {
   "cell_type": "code",
   "execution_count": null,
   "metadata": {},
   "outputs": [],
   "source": [
    "@interact(P1 = (0, 1000), P2 = (0, 1000))\n",
    "def power(P1, P2):\n",
    "    t = np.linspace(0, 1, 1000)\n",
    "    s1 = np.sqrt(P1) * np.sin(2 * np.pi * t)\n",
    "    s2 = np.sqrt(P2) * np.cos(2 * np.pi * t)\n",
    "    plt.plot(t, s1)\n",
    "    plt.plot(t, s2)\n",
    "    plt.xlabel('t')\n",
    "    plt.ylabel('s1, s2')\n",
    "    plt.title('Snaga')\n",
    "    plt.grid()\n",
    "    plt.show()"
   ]
  }
 ],
 "metadata": {
  "kernelspec": {
   "display_name": "Python 3.8.13 ('myenv')",
   "language": "python",
   "name": "python3"
  },
  "language_info": {
   "codemirror_mode": {
    "name": "ipython",
    "version": 3
   },
   "file_extension": ".py",
   "mimetype": "text/x-python",
   "name": "python",
   "nbconvert_exporter": "python",
   "pygments_lexer": "ipython3",
   "version": "3.8.13"
  },
  "orig_nbformat": 4,
  "vscode": {
   "interpreter": {
    "hash": "3b31d5edfc0c4cc2888671e6c953b05e2829ac7a2ac533c86f417768969706bd"
   }
  }
 },
 "nbformat": 4,
 "nbformat_minor": 2
}
