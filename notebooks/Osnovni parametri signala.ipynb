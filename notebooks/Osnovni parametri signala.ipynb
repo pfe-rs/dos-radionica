{
 "cells": [
  {
   "cell_type": "code",
   "execution_count": 3,
   "metadata": {},
   "outputs": [],
   "source": [
    "import numpy as np\n",
    "import matplotlib.pyplot as plt\n",
    "from ipywidgets import interact"
   ]
  },
  {
   "cell_type": "markdown",
   "metadata": {},
   "source": [
    "### Amplituda"
   ]
  },
  {
   "cell_type": "code",
   "execution_count": 2,
   "metadata": {},
   "outputs": [
    {
     "data": {
      "application/vnd.jupyter.widget-view+json": {
       "model_id": "b0ba59af0cd74fd9ae58813c49779e7e",
       "version_major": 2,
       "version_minor": 0
      },
      "text/plain": [
       "interactive(children=(IntSlider(value=500, description='A1', max=1000), IntSlider(value=500, description='A2',…"
      ]
     },
     "metadata": {},
     "output_type": "display_data"
    }
   ],
   "source": [
    "@interact(A1=(0, 1000), A2 = (0, 1000))\n",
    "def amplitude(A1, A2):\n",
    "    t = np.linspace(0, 1, 1000)\n",
    "    s1 = A1 * np.sin(2 * np.pi * t)\n",
    "    s2 = A2 * np.cos(2 * np.pi * t)\n",
    "    plt.plot(t, s1)\n",
    "    plt.plot(t, s2)\n",
    "    plt.xlabel('t')\n",
    "    plt.ylabel('s1, s2')\n",
    "    plt.title('Amplituda')\n",
    "    plt.grid()\n",
    "    plt.show()"
   ]
  },
  {
   "cell_type": "markdown",
   "metadata": {},
   "source": [
    "### Srednja snaga"
   ]
  },
  {
   "cell_type": "code",
   "execution_count": 3,
   "metadata": {},
   "outputs": [
    {
     "data": {
      "application/vnd.jupyter.widget-view+json": {
       "model_id": "f7df5786bc3e4a058a84e859b468fb3a",
       "version_major": 2,
       "version_minor": 0
      },
      "text/plain": [
       "interactive(children=(IntSlider(value=500, description='P1', max=1000), IntSlider(value=500, description='P2',…"
      ]
     },
     "metadata": {},
     "output_type": "display_data"
    }
   ],
   "source": [
    "@interact(P1 = (0, 1000), P2 = (0, 1000))\n",
    "def power(P1, P2):\n",
    "    t = np.linspace(0, 1, 1000)\n",
    "    s1 = np.sqrt(P1) * np.sin(2 * np.pi * t)\n",
    "    s2 = np.sqrt(P2) * np.cos(2 * np.pi * t)\n",
    "    plt.plot(t, s1)\n",
    "    plt.plot(t, s2)\n",
    "    plt.xlabel('t')\n",
    "    plt.ylabel('s1, s2')\n",
    "    plt.title('Snaga')\n",
    "    plt.grid()\n",
    "    plt.show()"
   ]
  },
  {
   "cell_type": "markdown",
   "metadata": {},
   "source": [
    "### Frekvencija "
   ]
  },
  {
   "cell_type": "code",
   "execution_count": 5,
   "metadata": {},
   "outputs": [
    {
     "data": {
      "application/vnd.jupyter.widget-view+json": {
       "model_id": "c11c252a28d3410da6568e8a635542bf",
       "version_major": 2,
       "version_minor": 0
      },
      "text/plain": [
       "interactive(children=(FloatSlider(value=3.0, description='f1', max=5.0, min=1.0), FloatSlider(value=3.0, descr…"
      ]
     },
     "metadata": {},
     "output_type": "display_data"
    }
   ],
   "source": [
    "@interact(f1 = (1, 5, 0.1), f2 = (1, 5, 0.1))\n",
    "def frequency(f1, f2):\n",
    "    t = np.linspace(0, 1, 1000)\n",
    "    s1 = np.sin(2 * np.pi * f1 * t)\n",
    "    s2 = np.cos(2 * np.pi * f2 * t)\n",
    "    plt.plot(t, s1)\n",
    "    plt.plot(t, s2)\n",
    "    plt.xlabel('t')\n",
    "    plt.ylabel('s1, s2')\n",
    "    plt.title('Frekvencija')\n",
    "    plt.grid()\n",
    "    plt.show()"
   ]
  },
  {
   "cell_type": "markdown",
   "metadata": {},
   "source": [
    "### Fazni pomeraj"
   ]
  },
  {
   "cell_type": "code",
   "execution_count": 10,
   "metadata": {},
   "outputs": [
    {
     "data": {
      "application/vnd.jupyter.widget-view+json": {
       "model_id": "1244ec3049944d5f847b88e14240f32a",
       "version_major": 2,
       "version_minor": 0
      },
      "text/plain": [
       "interactive(children=(FloatSlider(value=0.0, description='phi1', max=6.283185307179586), FloatSlider(value=1.5…"
      ]
     },
     "metadata": {},
     "output_type": "display_data"
    }
   ],
   "source": [
    "@interact(phi1 = (0, 2 * np.pi, 0.1), phi2 = (0, 2 * np.pi, 0.1))\n",
    "def phase(phi1 = 0, phi2 = np.pi / 2):\n",
    "    t = np.linspace(0, 1, 1000)\n",
    "    s1 = np.sin(2 * np.pi * t + phi1)\n",
    "    s2 = np.sin(2 * np.pi * t + phi2)\n",
    "    plt.plot(t, s1)\n",
    "    plt.plot(t, s2)\n",
    "    plt.xlabel('t')\n",
    "    plt.ylabel('s1, s2')\n",
    "    plt.title('Faze')\n",
    "    plt.legend(['s1', 's2'])\n",
    "    plt.grid()\n",
    "    plt.show()"
   ]
  }
 ],
 "metadata": {
  "kernelspec": {
   "display_name": "Python 3.8.13 ('myenv')",
   "language": "python",
   "name": "python3"
  },
  "language_info": {
   "codemirror_mode": {
    "name": "ipython",
    "version": 3
   },
   "file_extension": ".py",
   "mimetype": "text/x-python",
   "name": "python",
   "nbconvert_exporter": "python",
   "pygments_lexer": "ipython3",
   "version": "3.8.13"
  },
  "orig_nbformat": 4,
  "vscode": {
   "interpreter": {
    "hash": "3b31d5edfc0c4cc2888671e6c953b05e2829ac7a2ac533c86f417768969706bd"
   }
  }
 },
 "nbformat": 4,
 "nbformat_minor": 2
}
