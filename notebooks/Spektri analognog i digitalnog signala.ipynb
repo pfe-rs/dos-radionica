{
 "cells": [
  {
   "cell_type": "code",
   "execution_count": 1,
   "id": "9a24829b",
   "metadata": {},
   "outputs": [],
   "source": [
    "from matplotlib import pyplot as plt\n",
    "import numpy as np\n",
    "from ipywidgets import interact"
   ]
  },
  {
   "cell_type": "code",
   "execution_count": 2,
   "id": "310b0090",
   "metadata": {},
   "outputs": [
    {
     "data": {
      "image/png": "[encoded data removed]",
      "text/plain": [
       "<Figure size 432x288 with 1 Axes>"
      ]
     },
     "metadata": {
      "needs_background": "light"
     },
     "output_type": "display_data"
    }
   ],
   "source": [
    "# sampling rate\n",
    "sr = 100\n",
    "# sampling interval\n",
    "ts = 1.0/sr\n",
    "t = np.arange(0,1,ts)\n",
    "\n",
    "freq = 1.\n",
    "x = 3*np.sin(2*np.pi*freq*t)\n",
    "\n",
    "freq = 4\n",
    "x += np.sin(2*np.pi*freq*t)\n",
    "\n",
    "freq = 7   \n",
    "x += 0.5* np.sin(2*np.pi*freq*t)\n",
    "\n",
    "plt.plot(t, x)\n",
    "plt.title(\"Signal\")\n",
    "plt.xlabel(\"Vreme [s]\")\n",
    "plt.ylabel(\"Amplituda\")\n",
    "plt.show()"
   ]
  },
  {
   "cell_type": "code",
   "execution_count": 3,
   "id": "0ef65296",
   "metadata": {},
   "outputs": [],
   "source": [
    "# Isto kao u proslom primeru\n",
    "def DFT(x):\n",
    "    \"\"\"\n",
    "    Function to calculate the \n",
    "    discrete Fourier Transform \n",
    "    of a 1D real-valued signal x\n",
    "    \"\"\"\n",
    "\n",
    "    N = len(x)\n",
    "    n = np.arange(N)\n",
    "    k = n.reshape((N, 1))\n",
    "    e = np.exp(-2j * np.pi * k * n / N)\n",
    "    \n",
    "    X = np.dot(e, x)\n",
    "    \n",
    "    return X"
   ]
  },
  {
   "cell_type": "code",
   "execution_count": 4,
   "id": "d8a18b8a",
   "metadata": {},
   "outputs": [
    {
     "data": {
      "image/png": "[encoded data removed]",
      "text/plain": [
       "<Figure size 432x288 with 1 Axes>"
      ]
     },
     "metadata": {
      "needs_background": "light"
     },
     "output_type": "display_data"
    }
   ],
   "source": [
    "X = DFT(x)\n",
    "\n",
    "N = len(X)\n",
    "n = np.arange(N)\n",
    "T = N/sr\n",
    "freq = n/T \n",
    "\n",
    "plt.stem(freq, abs(X), linefmt=\"b\", markerfmt=\" \", basefmt=\"-b\")\n",
    "plt.title(\"DFT analognog signala\")\n",
    "plt.xlabel('Frekvencija [Hz]')\n",
    "plt.ylabel('Amplituda')\n",
    "plt.show()"
   ]
  },
  {
   "cell_type": "code",
   "execution_count": 5,
   "id": "5bdc5d16",
   "metadata": {},
   "outputs": [],
   "source": [
    "def digitize(x, f, r):\n",
    "    bins = np.array([x for x in range(2**r)])\n",
    "    d = np.interp(x, (x.min(), x.max()), (0, 2**r - 1))\n",
    "    \n",
    "    mask = np.zeros(x.size, dtype=bool)\n",
    "    mask[::int((x.size-1)/(f-1))] = 1\n",
    "    \n",
    "    return np.digitize(d[mask], bins) / (2**r)"
   ]
  },
  {
   "cell_type": "code",
   "execution_count": 7,
   "id": "38c3ac38",
   "metadata": {},
   "outputs": [
    {
     "data": {
      "application/vnd.jupyter.widget-view+json": {
       "model_id": "750757e6e6a1400cabf7256a70a42f7d",
       "version_major": 2,
       "version_minor": 0
      },
      "text/plain": [
       "interactive(children=(IntSlider(value=20, description='f', min=2), IntSlider(value=4, description='r', max=8, …"
      ]
     },
     "metadata": {},
     "output_type": "display_data"
    }
   ],
   "source": [
    "@interact(f=(2, 100), r=(1, 8))\n",
    "def dft_compare(f=20, r=4):\n",
    "    x_dig = digitize(x, f, r)\n",
    "    X = DFT(x_dig)\n",
    "\n",
    "    # calculate the frequency\n",
    "    N = len(X)\n",
    "    n = np.arange(N)\n",
    "    T = N/sr\n",
    "    freq = n/T\n",
    "    \n",
    "    n_oneside = N//2\n",
    "    # get the one side frequency\n",
    "    f_oneside = freq[:n_oneside]\n",
    "\n",
    "    # normalize the amplitude\n",
    "    X_oneside =X[:n_oneside]/n_oneside\n",
    "    \n",
    "    plt.figure(figsize = (12, 6))\n",
    "    plt.subplot(121)\n",
    "    plt.plot(n, x_dig)\n",
    "    plt.title(\"Digitalni signal\")\n",
    "\n",
    "    plt.subplot(122)\n",
    "    plt.stem(f_oneside, abs(X_oneside), linefmt='b', markerfmt=\" \", basefmt=\"-b\")\n",
    "    plt.title(\"DFT digitalnog signala\")\n",
    "    plt.xlabel('Frekvencija [Hz]')\n",
    "    plt.ylabel('Normalizovana amplituda')\n",
    "    plt.tight_layout()\n",
    "    plt.show()"
   ]
  }
 ],
 "metadata": {
  "kernelspec": {
   "display_name": "Python 3 (ipykernel)",
   "language": "python",
   "name": "python3"
  },
  "language_info": {
   "codemirror_mode": {
    "name": "ipython",
    "version": 3
   },
   "file_extension": ".py",
   "mimetype": "text/x-python",
   "name": "python",
   "nbconvert_exporter": "python",
   "pygments_lexer": "ipython3",
   "version": "3.10.5"
  }
 },
 "nbformat": 4,
 "nbformat_minor": 5
}
