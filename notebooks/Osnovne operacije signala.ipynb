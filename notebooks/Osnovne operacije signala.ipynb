{
 "cells": [
  {
   "cell_type": "code",
   "execution_count": null,
   "metadata": {},
   "outputs": [],
   "source": [
    "import numpy as np\n",
    "import matplotlib.pyplot as plt\n",
    "from ipywidgets import interact"
   ]
  },
  {
   "cell_type": "markdown",
   "metadata": {},
   "source": [
    "### Pojačanje"
   ]
  },
  {
   "cell_type": "code",
   "execution_count": null,
   "metadata": {},
   "outputs": [],
   "source": [
    "@interact(G = (0.5, 2))\n",
    "def amplify(G = 1):\n",
    "    t = np.linspace(0, 1, 1000)\n",
    "    x = np.sin(2*np.pi*t)\n",
    "    y = G * x\n",
    "\n",
    "    plt.plot(t, x, 'b')\n",
    "    plt.plot(t, y, 'r')\n",
    "\n",
    "    plt.legend(['originalni signal x(t)', 'pojacani signal y(t) = G* x(t)'])"
   ]
  },
  {
   "cell_type": "markdown",
   "metadata": {},
   "source": [
    "### Pomeraj u vremenu "
   ]
  },
  {
   "cell_type": "code",
   "execution_count": null,
   "metadata": {},
   "outputs": [],
   "source": [
    "@interact(t0 = (-5, 5, 0.1))\n",
    "def amplify(t0):\n",
    "    \n",
    "    t = np.linspace(0, 20, 1000)\n",
    "    x = 1 * (5 < t) * (t < 15)\n",
    "    N = len(t)\n",
    "    y = np.zeros(N)\n",
    "    n0 = int(t0 * len(t) / 20)\n",
    "    if t0 < 0:\n",
    "        y[:N + n0] = x[-n0:N]\n",
    "\n",
    "    else:\n",
    "        y[n0:N] = x[:N-n0]\n",
    "\n",
    "    plt.plot(t, x, 'b')\n",
    "    plt.plot(t, y, 'r')\n",
    "    plt.xlim(0, 20)\n",
    "\n",
    "    plt.legend(['originalni signal x(t)', 'zakasnjeni signal y(t) = x(t-t0)'])"
   ]
  },
  {
   "cell_type": "markdown",
   "metadata": {},
   "source": [
    "### Skaliranje u vremenu"
   ]
  },
  {
   "cell_type": "code",
   "execution_count": null,
   "metadata": {},
   "outputs": [],
   "source": [
    "@interact(k = (0.5, 2))\n",
    "def scale(k = 1):\n",
    "    t = np.linspace(0, 3, 100)\n",
    "    x = np.sin(2 * np.pi * t)\n",
    "    y = np.sin(2 * np.pi * t * k)\n",
    "    plt.plot(t, x, t, y)\n",
    "    \n",
    "    plt.legend(['originalni signal x(t)', 'Skalirani signal y(t) = x(kt)'])\n",
    "    plt.show()"
   ]
  }
 ],
 "metadata": {
  "kernelspec": {
   "display_name": "Python 3.8.13 ('myenv')",
   "language": "python",
   "name": "python3"
  },
  "language_info": {
   "codemirror_mode": {
    "name": "ipython",
    "version": 3
   },
   "file_extension": ".py",
   "mimetype": "text/x-python",
   "name": "python",
   "nbconvert_exporter": "python",
   "pygments_lexer": "ipython3",
   "version": "3.8.13"
  },
  "orig_nbformat": 4,
  "vscode": {
   "interpreter": {
    "hash": "3b31d5edfc0c4cc2888671e6c953b05e2829ac7a2ac533c86f417768969706bd"
   }
  }
 },
 "nbformat": 4,
 "nbformat_minor": 2
}
