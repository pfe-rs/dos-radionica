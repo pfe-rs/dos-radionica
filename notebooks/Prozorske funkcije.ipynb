{
 "cells": [
  {
   "cell_type": "code",
   "execution_count": 2,
   "id": "ebfc7df8",
   "metadata": {},
   "outputs": [],
   "source": [
    "import numpy as np\n",
    "import matplotlib.pyplot as plt\n",
    "from ipywidgets import interact\n",
    "from scipy import signal\n",
    "import scipy.fft as fft"
   ]
  },
  {
   "cell_type": "code",
   "execution_count": 3,
   "id": "7468d0f8",
   "metadata": {},
   "outputs": [],
   "source": [
    "t = np.linspace(0,2, 1000)\n",
    "s = signal.square(2*np.pi*t)\n",
    "S = fft.fft(s)"
   ]
  },
  {
   "cell_type": "code",
   "execution_count": 52,
   "id": "299b9de7",
   "metadata": {},
   "outputs": [],
   "source": [
    "def apply_window(win, sig):\n",
    "    filtered = signal.convolve(sig, win, mode='same') / sum(win)\n",
    "    s1 = sig\n",
    "    s2 = filtered\n",
    "    S1 = np.abs(fft.fft(s1))\n",
    "    S2 = np.abs(fft.fft(s2))\n",
    "    N = len(S1)\n",
    "    n = np.arange(N)\n",
    "    T = N/1000\n",
    "    freq = n/T\n",
    "    n_oneside = N//2\n",
    "    f_oneside = freq[:n_oneside]\n",
    "\n",
    "    S1_oneside =S1[:n_oneside]/n_oneside\n",
    "    S2_oneside =S2[:n_oneside]/n_oneside\n",
    "    \n",
    "    plt.figure(1,figsize=(8, 6), dpi=150) \n",
    "    plt.subplot(2,1,1)\n",
    "    plt.plot(t, s1, color=\"b\", label=\"originalni\")\n",
    "    plt.plot(t, s2, color=\"r\", label=\"filtriran\")\n",
    "    plt.legend()\n",
    "    plt.xlabel('t')\n",
    "    plt.ylabel('s1, s2')\n",
    "    plt.title('Vremenski domen')\n",
    "    plt.grid()\n",
    "    plt.subplots_adjust(hspace=0.3)\n",
    "    plt.subplot(2,1,2)\n",
    "    plt.stem(f_oneside, abs(S1_oneside), linefmt='b', markerfmt=\" \", basefmt=\"-b\", label=\"originalni\")\n",
    "    plt.stem(f_oneside, abs(S2_oneside), linefmt='r', markerfmt=\" \", basefmt=\"-r\", label=\"filtriran\")\n",
    "    plt.legend()\n",
    "    plt.xlabel('Frekvencija [Hz]')\n",
    "    plt.ylabel('Normalizovana amplituda')\n",
    "    plt.title('Frekvencijski domen')\n",
    "    plt.grid()\n",
    "    plt.show()"
   ]
  },
  {
   "cell_type": "markdown",
   "id": "3c75b0f4",
   "metadata": {},
   "source": [
    "## Pavougao"
   ]
  },
  {
   "cell_type": "code",
   "execution_count": 53,
   "id": "3f1e748f",
   "metadata": {},
   "outputs": [
    {
     "data": {
      "application/vnd.jupyter.widget-view+json": {
       "model_id": "e6ca587eee7e4c45b0a157aaca0a4c24",
       "version_major": 2,
       "version_minor": 0
      },
      "text/plain": [
       "interactive(children=(IntSlider(value=75, description='win_width', max=150), Output()), _dom_classes=('widget-…"
      ]
     },
     "metadata": {},
     "output_type": "display_data"
    }
   ],
   "source": [
    "@interact(win_width = (0, 150))\n",
    "def boxcar(win_width):\n",
    "    window = signal.boxcar(win_width)\n",
    "    apply_window(window, s)"
   ]
  },
  {
   "cell_type": "markdown",
   "id": "6d6917e4",
   "metadata": {},
   "source": [
    "## Hann"
   ]
  },
  {
   "cell_type": "code",
   "execution_count": 54,
   "id": "b22a18e9",
   "metadata": {
    "scrolled": false
   },
   "outputs": [
    {
     "data": {
      "application/vnd.jupyter.widget-view+json": {
       "model_id": "f920a7311ca542deab31c053c294b4ec",
       "version_major": 2,
       "version_minor": 0
      },
      "text/plain": [
       "interactive(children=(IntSlider(value=75, description='win_width', max=150), Output()), _dom_classes=('widget-…"
      ]
     },
     "metadata": {},
     "output_type": "display_data"
    }
   ],
   "source": [
    "@interact(win_width = (0, 150))\n",
    "def hann(win_width):\n",
    "    window = signal.hann(win_width)\n",
    "    apply_window(window, s)"
   ]
  },
  {
   "cell_type": "markdown",
   "id": "4e980ad2",
   "metadata": {},
   "source": [
    "## Hamming"
   ]
  },
  {
   "cell_type": "code",
   "execution_count": 55,
   "id": "c6b9f7de",
   "metadata": {},
   "outputs": [
    {
     "data": {
      "application/vnd.jupyter.widget-view+json": {
       "model_id": "3350cfa5e57f45fcbfd3ff26b6624cff",
       "version_major": 2,
       "version_minor": 0
      },
      "text/plain": [
       "interactive(children=(IntSlider(value=75, description='win_width', max=150), Output()), _dom_classes=('widget-…"
      ]
     },
     "metadata": {},
     "output_type": "display_data"
    }
   ],
   "source": [
    "@interact(win_width = (0, 150))\n",
    "def hamming(win_width):\n",
    "    window = signal.hamming(win_width)\n",
    "    apply_window(window, s)"
   ]
  },
  {
   "cell_type": "markdown",
   "id": "bbcf78f1",
   "metadata": {},
   "source": [
    "## Blackman"
   ]
  },
  {
   "cell_type": "code",
   "execution_count": 56,
   "id": "1fcc9e77",
   "metadata": {},
   "outputs": [
    {
     "data": {
      "application/vnd.jupyter.widget-view+json": {
       "model_id": "fbbbadb6319043cdb0acccebbf2101c1",
       "version_major": 2,
       "version_minor": 0
      },
      "text/plain": [
       "interactive(children=(IntSlider(value=75, description='win_width', max=150), Output()), _dom_classes=('widget-…"
      ]
     },
     "metadata": {},
     "output_type": "display_data"
    }
   ],
   "source": [
    "@interact(win_width = (0, 150))\n",
    "def blackman(win_width):\n",
    "    window = signal.blackman(win_width)\n",
    "    apply_window(window, s)"
   ]
  },
  {
   "cell_type": "markdown",
   "id": "c700e6d3",
   "metadata": {},
   "source": [
    "## Gauss"
   ]
  },
  {
   "cell_type": "code",
   "execution_count": 57,
   "id": "ef4ed20b",
   "metadata": {},
   "outputs": [
    {
     "data": {
      "application/vnd.jupyter.widget-view+json": {
       "model_id": "c3eea673f3e54e299605873129415c8b",
       "version_major": 2,
       "version_minor": 0
      },
      "text/plain": [
       "interactive(children=(IntSlider(value=75, description='win_width', max=150), IntSlider(value=75, description='…"
      ]
     },
     "metadata": {},
     "output_type": "display_data"
    }
   ],
   "source": [
    "@interact(win_width = (0, 150), std_dev=(0, 150))\n",
    "def gaussian(win_width, std_dev):\n",
    "    window = signal.gaussian(win_width,std_dev)\n",
    "    apply_window(window, s)"
   ]
  },
  {
   "cell_type": "code",
   "execution_count": null,
   "id": "4391431c",
   "metadata": {},
   "outputs": [],
   "source": []
  }
 ],
 "metadata": {
  "kernelspec": {
   "display_name": "Python 3 (ipykernel)",
   "language": "python",
   "name": "python3"
  },
  "language_info": {
   "codemirror_mode": {
    "name": "ipython",
    "version": 3
   },
   "file_extension": ".py",
   "mimetype": "text/x-python",
   "name": "python",
   "nbconvert_exporter": "python",
   "pygments_lexer": "ipython3",
   "version": "3.9.7"
  }
 },
 "nbformat": 4,
 "nbformat_minor": 5
}
