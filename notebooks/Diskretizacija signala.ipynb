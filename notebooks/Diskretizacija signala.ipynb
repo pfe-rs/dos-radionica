{
 "cells": [
  {
   "cell_type": "code",
   "execution_count": 315,
   "id": "1c4bc7df-0f0e-4fd7-a8e2-0254e079a222",
   "metadata": {
    "tags": []
   },
   "outputs": [],
   "source": [
    "from ipywidgets import interact\n",
    "from matplotlib import pyplot as plt\n",
    "import numpy as np"
   ]
  },
  {
   "cell_type": "code",
   "execution_count": 316,
   "id": "75d02056-b657-4155-b95b-605e9bf4b47a",
   "metadata": {
    "tags": []
   },
   "outputs": [
    {
     "data": {
      "text/plain": [
       "[<matplotlib.lines.Line2D at 0x7fe65cd55510>]"
      ]
     },
     "execution_count": 316,
     "metadata": {},
     "output_type": "execute_result"
    },
    {
     "data": {
      "image/png": "[encoded data removed]",
      "text/plain": [
       "<Figure size 432x288 with 1 Axes>"
      ]
     },
     "metadata": {
      "needs_background": "light"
     },
     "output_type": "display_data"
    }
   ],
   "source": [
    "t = np.arange(0,10,0.001) # ms\n",
    "s = 1/3 * np.sin(t) + 1/3 * np.sin(2*t + np.pi) + 1/3 * np.sin(3*t + np.pi / 4)\n",
    "plt.plot(t, s)"
   ]
  },
  {
   "cell_type": "code",
   "execution_count": 328,
   "id": "a4ea25ba-013a-4c78-95b7-23dae19f8812",
   "metadata": {
    "tags": []
   },
   "outputs": [
    {
     "data": {
      "application/vnd.jupyter.widget-view+json": {
       "model_id": "39ae4d7fc4e545db9383514079c742ce",
       "version_major": 2,
       "version_minor": 0
      },
      "text/plain": [
       "interactive(children=(IntSlider(value=600, description='f', max=10000, min=200), Output()), _dom_classes=('wid…"
      ]
     },
     "metadata": {},
     "output_type": "display_data"
    }
   ],
   "source": [
    "@interact(f=(200, 10000))\n",
    "def sample_rate(f = 600):\n",
    "    \n",
    "    n = f * np.round(t[-1]) * 1e-3\n",
    "    txt = int(str(int(n))[-1])\n",
    "    if txt == 1:\n",
    "        txt = 'odabirak'\n",
    "    elif txt > 0 and txt <= 4:\n",
    "        txt = 'odabirka'\n",
    "    else:\n",
    "        txt = 'odabiraka'\n",
    "    \n",
    "    plt.title(\"Odabiranje signala (%i Hz ⇒ %i %s / 10ms)\" % (f, n, txt))\n",
    "    plt.xlabel(\"Vreme [ms]\")\n",
    "    plt.ylabel(\"Amplituda\")\n",
    "    plt.grid(False, which='major')\n",
    "    plt.axhline(y=0, c=\"#000\")\n",
    "    \n",
    "    mask = np.zeros(s.size, dtype=bool)\n",
    "    mask[::int((s.size-1)/(n-1))] = 1\n",
    "    \n",
    "    plt.plot(t, s, linestyle='dotted', c='#666')\n",
    "    if n < 50:\n",
    "        plt.stem(t[mask], s[mask], basefmt='')\n",
    "        plt.plot(t[mask], s[mask], c='k')\n",
    "    else:\n",
    "        plt.scatter(t[mask], s[mask])\n",
    "        plt.plot(t[mask], s[mask], c='k')\n",
    "    "
   ]
  },
  {
   "cell_type": "code",
   "execution_count": 313,
   "id": "8eb94c9e-ed68-4661-bd5a-e7e9d879d490",
   "metadata": {},
   "outputs": [
    {
     "data": {
      "application/vnd.jupyter.widget-view+json": {
       "model_id": "0f83881c137e4c35ab075f42f36bf88d",
       "version_major": 2,
       "version_minor": 0
      },
      "text/plain": [
       "interactive(children=(IntSlider(value=4, description='r', max=8, min=1), Output()), _dom_classes=('widget-inte…"
      ]
     },
     "metadata": {},
     "output_type": "display_data"
    }
   ],
   "source": [
    "@interact(r=(1, 8))\n",
    "def sample_rate(r = 4):\n",
    "    \n",
    "    bins = np.array([x for x in range(2**r)])\n",
    "    d = np.interp(s, (s.min(),s.max()), (0, 2**r - 1))\n",
    "    \n",
    "    plt.title(\"Rezolucija signala (%ibit ADC ⇒ %i nivoa)\" % (r, 2**r))\n",
    "    plt.xlabel(\"Vreme [ms]\")\n",
    "    plt.ylabel(\"Amplituda [bit]\")\n",
    "    plt.grid(False, which='major')\n",
    "    \n",
    "    if bins.size <= 16:\n",
    "        plt.hlines(np.digitize(d,bins) - 1, t[0], t[-1], linestyles='solid', colors='#eee')\n",
    "    plt.plot(t, d, linestyle='dotted', c='#666')\n",
    "    plt.plot(t, np.digitize(d,bins - 0.5) - 1, c='k')\n"
   ]
  }
 ],
 "metadata": {
  "kernelspec": {
   "display_name": "Python 3 (ipykernel)",
   "language": "python",
   "name": "python3"
  },
  "language_info": {
   "codemirror_mode": {
    "name": "ipython",
    "version": 3
   },
   "file_extension": ".py",
   "mimetype": "text/x-python",
   "name": "python",
   "nbconvert_exporter": "python",
   "pygments_lexer": "ipython3",
   "version": "3.10.5"
  }
 },
 "nbformat": 4,
 "nbformat_minor": 5
}
